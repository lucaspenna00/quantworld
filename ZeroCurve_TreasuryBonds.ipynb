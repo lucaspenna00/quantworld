{
 "cells": [
  {
   "cell_type": "markdown",
   "id": "c854df79",
   "metadata": {},
   "source": [
    "# Modelling Zero Curve for Treasury Bonds"
   ]
  },
  {
   "cell_type": "code",
   "execution_count": 320,
   "id": "9f886d26",
   "metadata": {},
   "outputs": [],
   "source": [
    "import pandas as pd\n",
    "import numpy as np\n",
    "import matplotlib.pyplot as plt"
   ]
  },
  {
   "cell_type": "code",
   "execution_count": 311,
   "id": "dbdff118",
   "metadata": {},
   "outputs": [],
   "source": [
    "df_bonds = pd.read_excel(\"bonds_data.xlsx\")"
   ]
  },
  {
   "cell_type": "code",
   "execution_count": 312,
   "id": "eee6ccfc",
   "metadata": {},
   "outputs": [],
   "source": [
    "df_bonds['Compound Frequency per Year (m)'] = 1/df_bonds['Time to Maturity (Years)']"
   ]
  },
  {
   "cell_type": "code",
   "execution_count": 313,
   "id": "1b107a90",
   "metadata": {},
   "outputs": [],
   "source": [
    "df_bonds['number_of_cashflows'] = np.where(df_bonds['Annual Coupon (USD)'] == 0, 1, df_bonds['Time to Maturity (Years)']/0.5)"
   ]
  },
  {
   "cell_type": "markdown",
   "id": "2f8250fe",
   "metadata": {},
   "source": [
    "# 1. Calculating the Zero Rates (a.a.) for Zero Coupon Bonds"
   ]
  },
  {
   "cell_type": "code",
   "execution_count": 314,
   "id": "c15faccf",
   "metadata": {},
   "outputs": [],
   "source": [
    "def convertMCompoundedToContionousCompounded(Rm, m):\n",
    "    return m*np.log(1+(Rm/m))"
   ]
  },
  {
   "cell_type": "code",
   "execution_count": 315,
   "id": "e68efe58",
   "metadata": {},
   "outputs": [],
   "source": [
    "df_bonds['Zero Rates (m-compounded) per Year'] = np.where(df_bonds['Annual Coupon (USD)'] == 0, \n",
    "                                                ((df_bonds['Bond Principal (USD)'] - df_bonds['Bond Price (USD)'])/df_bonds['Bond Price (USD)'])*df_bonds['Compound Frequency per Year (m)'],\n",
    "                                                 0\n",
    "                                                )"
   ]
  },
  {
   "cell_type": "code",
   "execution_count": 316,
   "id": "9a042988",
   "metadata": {},
   "outputs": [],
   "source": [
    "df_bonds['Zero Rates (Continous Compounded) per Year'] = df_bonds.apply(lambda x: \n",
    "    convertMCompoundedToContionousCompounded(x['Zero Rates (m-compounded) per Year'], x['Compound Frequency per Year (m)']), \n",
    "                                                                        axis=1)"
   ]
  },
  {
   "cell_type": "code",
   "execution_count": 317,
   "id": "ee79ad41",
   "metadata": {},
   "outputs": [
    {
     "data": {
      "text/html": [
       "<div>\n",
       "<style scoped>\n",
       "    .dataframe tbody tr th:only-of-type {\n",
       "        vertical-align: middle;\n",
       "    }\n",
       "\n",
       "    .dataframe tbody tr th {\n",
       "        vertical-align: top;\n",
       "    }\n",
       "\n",
       "    .dataframe thead th {\n",
       "        text-align: right;\n",
       "    }\n",
       "</style>\n",
       "<table border=\"1\" class=\"dataframe\">\n",
       "  <thead>\n",
       "    <tr style=\"text-align: right;\">\n",
       "      <th></th>\n",
       "      <th>Bond Principal (USD)</th>\n",
       "      <th>Time to Maturity (Years)</th>\n",
       "      <th>Annual Coupon (USD)</th>\n",
       "      <th>Bond Price (USD)</th>\n",
       "      <th>Compound Frequency per Year (m)</th>\n",
       "      <th>number_of_cashflows</th>\n",
       "      <th>Zero Rates (m-compounded) per Year</th>\n",
       "      <th>Zero Rates (Continous Compounded) per Year</th>\n",
       "    </tr>\n",
       "  </thead>\n",
       "  <tbody>\n",
       "    <tr>\n",
       "      <th>0</th>\n",
       "      <td>100</td>\n",
       "      <td>0.5</td>\n",
       "      <td>0</td>\n",
       "      <td>94.9</td>\n",
       "      <td>2.000000</td>\n",
       "      <td>1.0</td>\n",
       "      <td>0.107482</td>\n",
       "      <td>0.104693</td>\n",
       "    </tr>\n",
       "    <tr>\n",
       "      <th>1</th>\n",
       "      <td>100</td>\n",
       "      <td>1.0</td>\n",
       "      <td>0</td>\n",
       "      <td>90.0</td>\n",
       "      <td>1.000000</td>\n",
       "      <td>1.0</td>\n",
       "      <td>0.111111</td>\n",
       "      <td>0.105361</td>\n",
       "    </tr>\n",
       "    <tr>\n",
       "      <th>2</th>\n",
       "      <td>100</td>\n",
       "      <td>1.5</td>\n",
       "      <td>8</td>\n",
       "      <td>96.0</td>\n",
       "      <td>0.666667</td>\n",
       "      <td>3.0</td>\n",
       "      <td>0.000000</td>\n",
       "      <td>0.000000</td>\n",
       "    </tr>\n",
       "    <tr>\n",
       "      <th>3</th>\n",
       "      <td>100</td>\n",
       "      <td>2.0</td>\n",
       "      <td>12</td>\n",
       "      <td>101.6</td>\n",
       "      <td>0.500000</td>\n",
       "      <td>4.0</td>\n",
       "      <td>0.000000</td>\n",
       "      <td>0.000000</td>\n",
       "    </tr>\n",
       "  </tbody>\n",
       "</table>\n",
       "</div>"
      ],
      "text/plain": [
       "   Bond Principal (USD)  Time to Maturity (Years)  Annual Coupon (USD)  \\\n",
       "0                   100                       0.5                    0   \n",
       "1                   100                       1.0                    0   \n",
       "2                   100                       1.5                    8   \n",
       "3                   100                       2.0                   12   \n",
       "\n",
       "   Bond Price (USD)  Compound Frequency per Year (m)  number_of_cashflows  \\\n",
       "0              94.9                         2.000000                  1.0   \n",
       "1              90.0                         1.000000                  1.0   \n",
       "2              96.0                         0.666667                  3.0   \n",
       "3             101.6                         0.500000                  4.0   \n",
       "\n",
       "   Zero Rates (m-compounded) per Year  \\\n",
       "0                            0.107482   \n",
       "1                            0.111111   \n",
       "2                            0.000000   \n",
       "3                            0.000000   \n",
       "\n",
       "   Zero Rates (Continous Compounded) per Year  \n",
       "0                                    0.104693  \n",
       "1                                    0.105361  \n",
       "2                                    0.000000  \n",
       "3                                    0.000000  "
      ]
     },
     "execution_count": 317,
     "metadata": {},
     "output_type": "execute_result"
    }
   ],
   "source": [
    "df_bonds"
   ]
  },
  {
   "cell_type": "code",
   "execution_count": 318,
   "id": "1fb0283b",
   "metadata": {
    "scrolled": true
   },
   "outputs": [],
   "source": [
    "for idx, row in df_bonds.iterrows():\n",
    "    if row['Annual Coupon (USD)'] == 0.0:\n",
    "        df_bonds.loc[idx, 'Zero Rates (Continous Compounded) per Year'] = row['Zero Rates (Continous Compounded) per Year']\n",
    "    else:\n",
    "        df_bonds_filt = df_bonds[df_bonds['Time to Maturity (Years)'] < row['Time to Maturity (Years)']]\n",
    "        \n",
    "        semiannual_coupon = row['Annual Coupon (USD)']/2\n",
    "        bond_principal = row['Bond Principal (USD)']\n",
    "        bond_price = row['Bond Price (USD)']\n",
    "        time_to_maturity = row['Time to Maturity (Years)']\n",
    "        \n",
    "        list_cashflows = []\n",
    "        for _maturity in df_bonds_filt['Time to Maturity (Years)'].tolist():\n",
    "            zero_rate_cc = df_bonds_filt[df_bonds_filt['Time to Maturity (Years)'] == _maturity]['Zero Rates (Continous Compounded) per Year'].iloc[0]\n",
    "            list_cashflows.append(semiannual_coupon*np.e**(-zero_rate_cc*_maturity))\n",
    "        \n",
    "        sum_cash_flows = sum(list_cashflows)\n",
    "        log_arg = (bond_price - sum_cash_flows)/(bond_principal+semiannual_coupon)\n",
    "        zero_rate = - np.log(log_arg)/time_to_maturity\n",
    "        \n",
    "        df_bonds.loc[idx, 'Zero Rates (Continous Compounded) per Year'] = zero_rate\n",
    "        \n"
   ]
  },
  {
   "cell_type": "code",
   "execution_count": 319,
   "id": "acc7876b",
   "metadata": {
    "scrolled": true
   },
   "outputs": [
    {
     "data": {
      "text/html": [
       "<div>\n",
       "<style scoped>\n",
       "    .dataframe tbody tr th:only-of-type {\n",
       "        vertical-align: middle;\n",
       "    }\n",
       "\n",
       "    .dataframe tbody tr th {\n",
       "        vertical-align: top;\n",
       "    }\n",
       "\n",
       "    .dataframe thead th {\n",
       "        text-align: right;\n",
       "    }\n",
       "</style>\n",
       "<table border=\"1\" class=\"dataframe\">\n",
       "  <thead>\n",
       "    <tr style=\"text-align: right;\">\n",
       "      <th></th>\n",
       "      <th>Bond Principal (USD)</th>\n",
       "      <th>Time to Maturity (Years)</th>\n",
       "      <th>Annual Coupon (USD)</th>\n",
       "      <th>Bond Price (USD)</th>\n",
       "      <th>Compound Frequency per Year (m)</th>\n",
       "      <th>number_of_cashflows</th>\n",
       "      <th>Zero Rates (m-compounded) per Year</th>\n",
       "      <th>Zero Rates (Continous Compounded) per Year</th>\n",
       "    </tr>\n",
       "  </thead>\n",
       "  <tbody>\n",
       "    <tr>\n",
       "      <th>0</th>\n",
       "      <td>100</td>\n",
       "      <td>0.5</td>\n",
       "      <td>0</td>\n",
       "      <td>94.9</td>\n",
       "      <td>2.000000</td>\n",
       "      <td>1.0</td>\n",
       "      <td>0.107482</td>\n",
       "      <td>0.104693</td>\n",
       "    </tr>\n",
       "    <tr>\n",
       "      <th>1</th>\n",
       "      <td>100</td>\n",
       "      <td>1.0</td>\n",
       "      <td>0</td>\n",
       "      <td>90.0</td>\n",
       "      <td>1.000000</td>\n",
       "      <td>1.0</td>\n",
       "      <td>0.111111</td>\n",
       "      <td>0.105361</td>\n",
       "    </tr>\n",
       "    <tr>\n",
       "      <th>2</th>\n",
       "      <td>100</td>\n",
       "      <td>1.5</td>\n",
       "      <td>8</td>\n",
       "      <td>96.0</td>\n",
       "      <td>0.666667</td>\n",
       "      <td>3.0</td>\n",
       "      <td>0.000000</td>\n",
       "      <td>0.106809</td>\n",
       "    </tr>\n",
       "    <tr>\n",
       "      <th>3</th>\n",
       "      <td>100</td>\n",
       "      <td>2.0</td>\n",
       "      <td>12</td>\n",
       "      <td>101.6</td>\n",
       "      <td>0.500000</td>\n",
       "      <td>4.0</td>\n",
       "      <td>0.000000</td>\n",
       "      <td>0.108080</td>\n",
       "    </tr>\n",
       "  </tbody>\n",
       "</table>\n",
       "</div>"
      ],
      "text/plain": [
       "   Bond Principal (USD)  Time to Maturity (Years)  Annual Coupon (USD)  \\\n",
       "0                   100                       0.5                    0   \n",
       "1                   100                       1.0                    0   \n",
       "2                   100                       1.5                    8   \n",
       "3                   100                       2.0                   12   \n",
       "\n",
       "   Bond Price (USD)  Compound Frequency per Year (m)  number_of_cashflows  \\\n",
       "0              94.9                         2.000000                  1.0   \n",
       "1              90.0                         1.000000                  1.0   \n",
       "2              96.0                         0.666667                  3.0   \n",
       "3             101.6                         0.500000                  4.0   \n",
       "\n",
       "   Zero Rates (m-compounded) per Year  \\\n",
       "0                            0.107482   \n",
       "1                            0.111111   \n",
       "2                            0.000000   \n",
       "3                            0.000000   \n",
       "\n",
       "   Zero Rates (Continous Compounded) per Year  \n",
       "0                                    0.104693  \n",
       "1                                    0.105361  \n",
       "2                                    0.106809  \n",
       "3                                    0.108080  "
      ]
     },
     "execution_count": 319,
     "metadata": {},
     "output_type": "execute_result"
    }
   ],
   "source": [
    "df_bonds"
   ]
  },
  {
   "cell_type": "code",
   "execution_count": 323,
   "id": "8c84584d",
   "metadata": {},
   "outputs": [
    {
     "data": {
      "image/png": "[encoded data removed]",
      "text/plain": [
       "<Figure size 432x288 with 1 Axes>"
      ]
     },
     "metadata": {
      "needs_background": "light"
     },
     "output_type": "display_data"
    }
   ],
   "source": [
    "plt.plot(df_bonds['Zero Rates (Continous Compounded) per Year']);\n",
    "plt.title(\"Zero Curve - Treasury Bonds\");"
   ]
  }
 ],
 "metadata": {
  "kernelspec": {
   "display_name": "Python 3 (ipykernel)",
   "language": "python",
   "name": "python3"
  },
  "language_info": {
   "codemirror_mode": {
    "name": "ipython",
    "version": 3
   },
   "file_extension": ".py",
   "mimetype": "text/x-python",
   "name": "python",
   "nbconvert_exporter": "python",
   "pygments_lexer": "ipython3",
   "version": "3.9.7"
  }
 },
 "nbformat": 4,
 "nbformat_minor": 5
}
